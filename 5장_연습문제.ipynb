{
  "nbformat": 4,
  "nbformat_minor": 0,
  "metadata": {
    "colab": {
      "provenance": [],
      "authorship_tag": "ABX9TyP0s/mU0mtvkAMQBYsdED2s",
      "include_colab_link": true
    },
    "kernelspec": {
      "name": "python3",
      "display_name": "Python 3"
    },
    "language_info": {
      "name": "python"
    }
  },
  "cells": [
    {
      "cell_type": "markdown",
      "metadata": {
        "id": "view-in-github",
        "colab_type": "text"
      },
      "source": [
        "<a href=\"https://colab.research.google.com/github/ksnuKJY/BP_10_Ch5/blob/main/5%EC%9E%A5_%EC%97%B0%EC%8A%B5%EB%AC%B8%EC%A0%9C.ipynb\" target=\"_parent\"><img src=\"https://colab.research.google.com/assets/colab-badge.svg\" alt=\"Open In Colab\"/></a>"
      ]
    },
    {
      "cell_type": "code",
      "execution_count": null,
      "metadata": {
        "colab": {
          "base_uri": "https://localhost:8080/"
        },
        "id": "jcJQ-DhT-nkk",
        "outputId": "cc2b7f70-b5e6-4d9f-8acb-45b29bdaa3fa"
      },
      "outputs": [
        {
          "output_type": "stream",
          "name": "stdout",
          "text": [
            "20살 이상\n"
          ]
        }
      ],
      "source": [
        "age=20\n",
        "if age < 20:                                                #20살보다 아래면\n",
        "  print('20살 미만')\n",
        "else:                                                       #그렇지 않다면\n",
        "  print('20살 이상')"
      ]
    },
    {
      "cell_type": "code",
      "source": [
        "age = 20\n",
        "if age >= 30 and age <= 50:                                #30살 이상이고 50살 이하라면\n",
        " print('30살 이상이고 50살 이하')\n",
        "else:                                                      #그렇지 않다면\n",
        "  print('30살이상이고 50살 이하를 제외한 나머지')"
      ],
      "metadata": {
        "colab": {
          "base_uri": "https://localhost:8080/"
        },
        "id": "f3Q8vQ6m_xK_",
        "outputId": "363cb7d9-c06f-4042-fbba-4601a0172242"
      },
      "execution_count": null,
      "outputs": [
        {
          "output_type": "stream",
          "name": "stdout",
          "text": [
            "30살이상이고 50살 이하를 제외한 나머지\n"
          ]
        }
      ]
    },
    {
      "cell_type": "code",
      "source": [
        "temp = int(input(\"현재 온도를 입력하시오: \"))\n",
        "if temp >= 25:                                            #25도 이상이면\n",
        " print(\"반바지를 입으세요\")\n",
        "else:                                                     #그렇지 않다면\n",
        " print(\"긴바지를 입으세요\")"
      ],
      "metadata": {
        "colab": {
          "base_uri": "https://localhost:8080/"
        },
        "id": "5XpZTv_2_3cm",
        "outputId": "ad5b6047-f310-4fab-cac1-7927a418f051"
      },
      "execution_count": null,
      "outputs": [
        {
          "output_type": "stream",
          "name": "stdout",
          "text": [
            "현재 온도를 입력하시오: 10\n",
            "긴바지를 입으세요\n"
          ]
        }
      ]
    },
    {
      "cell_type": "code",
      "source": [
        "score = int(input(\"성적을 입력하시오: \"))\n",
        "if score >= 90:                                           #90점 이상이면\n",
        " print(\"A학점입니다.\")\n",
        "elif score >= 80:                                         #90점 아래 80점 이상이면\n",
        " print(\"B학점입니다.\")\n",
        "elif score >= 70:                                         #80점 아래 70점 이상이면\n",
        " print(\"C학점입니다.\")\n",
        "elif score >= 60:                                         #70점 아래 60점 이상이면\n",
        " print(\"D학점입니다.\")\n",
        "else :                                                    #그렇지 않다면\n",
        " print(\"F학점입니다.\")"
      ],
      "metadata": {
        "colab": {
          "base_uri": "https://localhost:8080/"
        },
        "id": "ME1p3Uza_9eW",
        "outputId": "25855324-813a-4eb8-de2b-9957dfc1531a"
      },
      "execution_count": null,
      "outputs": [
        {
          "output_type": "stream",
          "name": "stdout",
          "text": [
            "성적을 입력하시오: 99\n",
            "A학점입니다.\n"
          ]
        }
      ]
    },
    {
      "cell_type": "code",
      "source": [
        "import random                                             #random함수를 불러옴\n",
        "x = random.randint(1, 100)                                #변수 x는 1~100사이의 난수\n",
        "y = random.randint(1, 100)                                #변수 y는 1~100사이의 난수\n",
        "\n",
        "ans = int(input(str(x)+\"-\"+str(y)+\"=\"))                   #변수x와 변수y를 사용하여 문제를 만들어냄\n",
        "\n",
        "if ans == x -y :                                          #문제의 답을 맞추면\n",
        " print(\"맞았습니다.\")\n",
        "else:                                                     #문제의 답을 틀리면\n",
        " print(\"틀렸습니다.\")"
      ],
      "metadata": {
        "colab": {
          "base_uri": "https://localhost:8080/"
        },
        "id": "kvPX8P8BADUd",
        "outputId": "29acb997-7308-4793-9f8d-4a0d9417c384"
      },
      "execution_count": null,
      "outputs": [
        {
          "output_type": "stream",
          "name": "stdout",
          "text": [
            "60-80=-20\n",
            "맞았습니다.\n"
          ]
        }
      ]
    },
    {
      "cell_type": "code",
      "source": [
        "n = int(input(\"정수를 입력하시오: \"))                     #사용자로부터 정수를 받음\n",
        "\n",
        "if n%2==0 and n%3==0:                                     #2와 3으로 나누어 떨어진다면\n",
        " print(\"2와 3으로 나누어 떨어집니다.\")\n",
        "else :                                                    #2와 3으로 나누어 떨어지지 않는다면\n",
        " print(\"2와 3으로 나누어 떨어지지 않습니다.\")"
      ],
      "metadata": {
        "colab": {
          "base_uri": "https://localhost:8080/"
        },
        "id": "FM0llVpbARuB",
        "outputId": "c7835b95-4b08-4188-a514-56b629cb2514"
      },
      "execution_count": null,
      "outputs": [
        {
          "output_type": "stream",
          "name": "stdout",
          "text": [
            "정수를 입력하시오: 6\n",
            "2와 3으로 나누어 떨어집니다.\n"
          ]
        }
      ]
    },
    {
      "cell_type": "code",
      "source": [
        "import random                                              #random함수를 불러옴\n",
        "\n",
        "solution = random.randint(0,99)                            #solution은 0과 99사이의 난수\n",
        "\n",
        "user = int(input(\"복권번호를 입력하시요(0에서 99사이): \")) #사용자가 가진 복권번호를 입력함\n",
        "\n",
        "digit1 = solution // 10                                    #digit1은 solution의 앞자리 수\n",
        "digit2 = solution % 10                                     #digit2는 solution의 뒷자리 수\n",
        "\n",
        "u_digit1 = user // 10                                      #u_digit1은 user의 앞자리 수\n",
        "u_digit2 = user % 10                                       #u_digit2는 user의 뒷자리 수\n",
        "\n",
        "print(\"당첨번호는\", solution, \"입니다.\")                   #당첨번호 출력\n",
        "\n",
        "if(digit1 == u_digit1 and digit2 == u_digit2):             #당첨번호가 모두 일치하면\n",
        "  print(\"상금은 100만원 입니다.\")\n",
        "elif(digit1 == u_digit1                                    #당첨번호가 둘 중 하나만 일치하면\n",
        "     or digit1 == u_digit2\n",
        "     or digit2 == u_digit1\n",
        "     or digit2 == u_digit2):\n",
        "  print(\"상금은 50만원입니다.\")\n",
        "else:                                                      #당첨번호가 모두 일치하지 않다면\n",
        "  print(\"상금은 없습니다.\")"
      ],
      "metadata": {
        "id": "uvXUfwOWAXnB",
        "colab": {
          "base_uri": "https://localhost:8080/"
        },
        "outputId": "a28d93b7-9a71-4ffb-d7ea-1c7225d04921"
      },
      "execution_count": null,
      "outputs": [
        {
          "output_type": "stream",
          "name": "stdout",
          "text": [
            "복권번호를 입력하시요(0에서 99사이): 36\n",
            "당첨번호는 13 입니다.\n",
            "상금은 50만원입니다.\n"
          ]
        }
      ]
    },
    {
      "cell_type": "code",
      "source": [
        "import turtle                                              #turtle함수를 불러옴\n",
        "t = turtle.Turtle()                                        #t에 turtle함수 대입\n",
        "t.shape(\"turtle\")                                          #모양을 거북이로 바꿈\n",
        "\n",
        "x1=int(input(\"큰 원의 중심좌표 x1: \"))                     #x1입력\n",
        "y1=int(input(\"큰 원의 중심좌표 y1: \"))                     #y1입력\n",
        "r1=int(input(\"큰 원의 반지름: \"))                          #r1입력\n",
        "x2=int(input(\"작은 원의 중심좌표 x2: \"))                   #x2입력\n",
        "y2=int(input(\"작은 원의 중심좌표 y2: \"))                   #y2입력\n",
        "r2=int(input(\"작은 원의 반지름: \"))                        #r2입력\n",
        "\n",
        "t.penup()                                                  #거북이 지나가는 흔적없애기\n",
        "t.goto(x1,y1)                                              #거북이가 (x1,y1)로 이동\n",
        "t.pendown()                                                #거북이 지나가는 흔적 표시\n",
        "t.circle(r1)                                               #반지름이 r1인 원 그리기\n",
        "\n",
        "t.penup()                                                  #거북이 지나가는 흔적없애기\n",
        "t.goto(x2,y2)                                              #거북이가 (x2,y2)로 이동\n",
        "t.pendown()                                                #거북이 지나가는 흔적 표시\n",
        "t.circle(r2)                                               #반지름이 r2인 원 그리기\n",
        "\n",
        "dist=((x1-x2)*(x1-x2)+(y1-y2)*(y1-y2))**0.5                #dist는 두점사이의 거리\n",
        "if dist <= r1-r2:                                          #dist가 r1-r2보다 이하인 경우\n",
        "  turtle.write(\"두번째 원이 첫번째 원의 내부에 있습니다.\") #두번째 원이 첫번째 원의 내부에 있습니다. 출력\n",
        "elif dist <= r1+r2:                                        #dist가 r1+r2보다 이하인 경우\n",
        "  turtle.write(\"두번째 원이 첫번째 원과 겹칩니다.\")        #두번째 원이 첫번째 원과 겹칩니다. 출력\n",
        "else:                                                      #그렇지 않은 경우\n",
        "  turtle.write(\"두번째 원이 첫번째 원과 겹치지 않습니다.\") #두번째 원이 첫번째 원과 겹치지 않습니다. 출력\n",
        "t._screen.exitonclick()                                    #turtle screen 닫음"
      ],
      "metadata": {
        "colab": {
          "base_uri": "https://localhost:8080/",
          "height": 432
        },
        "id": "rmsWN2XXprwN",
        "outputId": "d84da709-6455-4bbc-c7ca-3fe5c49b6da0"
      },
      "execution_count": null,
      "outputs": [
        {
          "output_type": "error",
          "ename": "TclError",
          "evalue": "ignored",
          "traceback": [
            "\u001b[0;31m---------------------------------------------------------------------------\u001b[0m",
            "\u001b[0;31mTclError\u001b[0m                                  Traceback (most recent call last)",
            "\u001b[0;32m<ipython-input-2-65b5454254ee>\u001b[0m in \u001b[0;36m<module>\u001b[0;34m\u001b[0m\n\u001b[1;32m      1\u001b[0m \u001b[0;32mimport\u001b[0m \u001b[0mturtle\u001b[0m\u001b[0;34m\u001b[0m\u001b[0;34m\u001b[0m\u001b[0m\n\u001b[0;32m----> 2\u001b[0;31m \u001b[0mt\u001b[0m \u001b[0;34m=\u001b[0m \u001b[0mturtle\u001b[0m\u001b[0;34m.\u001b[0m\u001b[0mTurtle\u001b[0m\u001b[0;34m(\u001b[0m\u001b[0;34m)\u001b[0m\u001b[0;34m\u001b[0m\u001b[0;34m\u001b[0m\u001b[0m\n\u001b[0m\u001b[1;32m      3\u001b[0m \u001b[0mt\u001b[0m\u001b[0;34m.\u001b[0m\u001b[0mshape\u001b[0m\u001b[0;34m(\u001b[0m\u001b[0;34m\"turtle\"\u001b[0m\u001b[0;34m)\u001b[0m\u001b[0;34m\u001b[0m\u001b[0;34m\u001b[0m\u001b[0m\n\u001b[1;32m      4\u001b[0m \u001b[0;34m\u001b[0m\u001b[0m\n\u001b[1;32m      5\u001b[0m \u001b[0mx1\u001b[0m\u001b[0;34m=\u001b[0m\u001b[0mint\u001b[0m\u001b[0;34m(\u001b[0m\u001b[0minput\u001b[0m\u001b[0;34m(\u001b[0m\u001b[0;34m\"큰 원의 중심좌표 x1: \"\u001b[0m\u001b[0;34m)\u001b[0m\u001b[0;34m)\u001b[0m\u001b[0;34m\u001b[0m\u001b[0;34m\u001b[0m\u001b[0m\n",
            "\u001b[0;32m/usr/lib/python3.7/turtle.py\u001b[0m in \u001b[0;36m__init__\u001b[0;34m(self, shape, undobuffersize, visible)\u001b[0m\n\u001b[1;32m   3810\u001b[0m                  visible=_CFG[\"visible\"]):\n\u001b[1;32m   3811\u001b[0m         \u001b[0;32mif\u001b[0m \u001b[0mTurtle\u001b[0m\u001b[0;34m.\u001b[0m\u001b[0m_screen\u001b[0m \u001b[0;32mis\u001b[0m \u001b[0;32mNone\u001b[0m\u001b[0;34m:\u001b[0m\u001b[0;34m\u001b[0m\u001b[0;34m\u001b[0m\u001b[0m\n\u001b[0;32m-> 3812\u001b[0;31m             \u001b[0mTurtle\u001b[0m\u001b[0;34m.\u001b[0m\u001b[0m_screen\u001b[0m \u001b[0;34m=\u001b[0m \u001b[0mScreen\u001b[0m\u001b[0;34m(\u001b[0m\u001b[0;34m)\u001b[0m\u001b[0;34m\u001b[0m\u001b[0;34m\u001b[0m\u001b[0m\n\u001b[0m\u001b[1;32m   3813\u001b[0m         RawTurtle.__init__(self, Turtle._screen,\n\u001b[1;32m   3814\u001b[0m                            \u001b[0mshape\u001b[0m\u001b[0;34m=\u001b[0m\u001b[0mshape\u001b[0m\u001b[0;34m,\u001b[0m\u001b[0;34m\u001b[0m\u001b[0;34m\u001b[0m\u001b[0m\n",
            "\u001b[0;32m/usr/lib/python3.7/turtle.py\u001b[0m in \u001b[0;36mScreen\u001b[0;34m()\u001b[0m\n\u001b[1;32m   3660\u001b[0m     else return the existing one.\"\"\"\n\u001b[1;32m   3661\u001b[0m     \u001b[0;32mif\u001b[0m \u001b[0mTurtle\u001b[0m\u001b[0;34m.\u001b[0m\u001b[0m_screen\u001b[0m \u001b[0;32mis\u001b[0m \u001b[0;32mNone\u001b[0m\u001b[0;34m:\u001b[0m\u001b[0;34m\u001b[0m\u001b[0;34m\u001b[0m\u001b[0m\n\u001b[0;32m-> 3662\u001b[0;31m         \u001b[0mTurtle\u001b[0m\u001b[0;34m.\u001b[0m\u001b[0m_screen\u001b[0m \u001b[0;34m=\u001b[0m \u001b[0m_Screen\u001b[0m\u001b[0;34m(\u001b[0m\u001b[0;34m)\u001b[0m\u001b[0;34m\u001b[0m\u001b[0;34m\u001b[0m\u001b[0m\n\u001b[0m\u001b[1;32m   3663\u001b[0m     \u001b[0;32mreturn\u001b[0m \u001b[0mTurtle\u001b[0m\u001b[0;34m.\u001b[0m\u001b[0m_screen\u001b[0m\u001b[0;34m\u001b[0m\u001b[0;34m\u001b[0m\u001b[0m\n\u001b[1;32m   3664\u001b[0m \u001b[0;34m\u001b[0m\u001b[0m\n",
            "\u001b[0;32m/usr/lib/python3.7/turtle.py\u001b[0m in \u001b[0;36m__init__\u001b[0;34m(self)\u001b[0m\n\u001b[1;32m   3676\u001b[0m         \u001b[0;31m# preserved (perhaps by passing it as an optional parameter)\u001b[0m\u001b[0;34m\u001b[0m\u001b[0;34m\u001b[0m\u001b[0;34m\u001b[0m\u001b[0m\n\u001b[1;32m   3677\u001b[0m         \u001b[0;32mif\u001b[0m \u001b[0m_Screen\u001b[0m\u001b[0;34m.\u001b[0m\u001b[0m_root\u001b[0m \u001b[0;32mis\u001b[0m \u001b[0;32mNone\u001b[0m\u001b[0;34m:\u001b[0m\u001b[0;34m\u001b[0m\u001b[0;34m\u001b[0m\u001b[0m\n\u001b[0;32m-> 3678\u001b[0;31m             \u001b[0m_Screen\u001b[0m\u001b[0;34m.\u001b[0m\u001b[0m_root\u001b[0m \u001b[0;34m=\u001b[0m \u001b[0mself\u001b[0m\u001b[0;34m.\u001b[0m\u001b[0m_root\u001b[0m \u001b[0;34m=\u001b[0m \u001b[0m_Root\u001b[0m\u001b[0;34m(\u001b[0m\u001b[0;34m)\u001b[0m\u001b[0;34m\u001b[0m\u001b[0;34m\u001b[0m\u001b[0m\n\u001b[0m\u001b[1;32m   3679\u001b[0m             \u001b[0mself\u001b[0m\u001b[0;34m.\u001b[0m\u001b[0m_root\u001b[0m\u001b[0;34m.\u001b[0m\u001b[0mtitle\u001b[0m\u001b[0;34m(\u001b[0m\u001b[0m_Screen\u001b[0m\u001b[0;34m.\u001b[0m\u001b[0m_title\u001b[0m\u001b[0;34m)\u001b[0m\u001b[0;34m\u001b[0m\u001b[0;34m\u001b[0m\u001b[0m\n\u001b[1;32m   3680\u001b[0m             \u001b[0mself\u001b[0m\u001b[0;34m.\u001b[0m\u001b[0m_root\u001b[0m\u001b[0;34m.\u001b[0m\u001b[0mondestroy\u001b[0m\u001b[0;34m(\u001b[0m\u001b[0mself\u001b[0m\u001b[0;34m.\u001b[0m\u001b[0m_destroy\u001b[0m\u001b[0;34m)\u001b[0m\u001b[0;34m\u001b[0m\u001b[0;34m\u001b[0m\u001b[0m\n",
            "\u001b[0;32m/usr/lib/python3.7/turtle.py\u001b[0m in \u001b[0;36m__init__\u001b[0;34m(self)\u001b[0m\n\u001b[1;32m    432\u001b[0m     \u001b[0;34m\"\"\"Root class for Screen based on Tkinter.\"\"\"\u001b[0m\u001b[0;34m\u001b[0m\u001b[0;34m\u001b[0m\u001b[0m\n\u001b[1;32m    433\u001b[0m     \u001b[0;32mdef\u001b[0m \u001b[0m__init__\u001b[0m\u001b[0;34m(\u001b[0m\u001b[0mself\u001b[0m\u001b[0;34m)\u001b[0m\u001b[0;34m:\u001b[0m\u001b[0;34m\u001b[0m\u001b[0;34m\u001b[0m\u001b[0m\n\u001b[0;32m--> 434\u001b[0;31m         \u001b[0mTK\u001b[0m\u001b[0;34m.\u001b[0m\u001b[0mTk\u001b[0m\u001b[0;34m.\u001b[0m\u001b[0m__init__\u001b[0m\u001b[0;34m(\u001b[0m\u001b[0mself\u001b[0m\u001b[0;34m)\u001b[0m\u001b[0;34m\u001b[0m\u001b[0;34m\u001b[0m\u001b[0m\n\u001b[0m\u001b[1;32m    435\u001b[0m \u001b[0;34m\u001b[0m\u001b[0m\n\u001b[1;32m    436\u001b[0m     \u001b[0;32mdef\u001b[0m \u001b[0msetupcanvas\u001b[0m\u001b[0;34m(\u001b[0m\u001b[0mself\u001b[0m\u001b[0;34m,\u001b[0m \u001b[0mwidth\u001b[0m\u001b[0;34m,\u001b[0m \u001b[0mheight\u001b[0m\u001b[0;34m,\u001b[0m \u001b[0mcwidth\u001b[0m\u001b[0;34m,\u001b[0m \u001b[0mcheight\u001b[0m\u001b[0;34m)\u001b[0m\u001b[0;34m:\u001b[0m\u001b[0;34m\u001b[0m\u001b[0;34m\u001b[0m\u001b[0m\n",
            "\u001b[0;32m/usr/lib/python3.7/tkinter/__init__.py\u001b[0m in \u001b[0;36m__init__\u001b[0;34m(self, screenName, baseName, className, useTk, sync, use)\u001b[0m\n\u001b[1;32m   2021\u001b[0m                 \u001b[0mbaseName\u001b[0m \u001b[0;34m=\u001b[0m \u001b[0mbaseName\u001b[0m \u001b[0;34m+\u001b[0m \u001b[0mext\u001b[0m\u001b[0;34m\u001b[0m\u001b[0;34m\u001b[0m\u001b[0m\n\u001b[1;32m   2022\u001b[0m         \u001b[0minteractive\u001b[0m \u001b[0;34m=\u001b[0m \u001b[0;36m0\u001b[0m\u001b[0;34m\u001b[0m\u001b[0;34m\u001b[0m\u001b[0m\n\u001b[0;32m-> 2023\u001b[0;31m         \u001b[0mself\u001b[0m\u001b[0;34m.\u001b[0m\u001b[0mtk\u001b[0m \u001b[0;34m=\u001b[0m \u001b[0m_tkinter\u001b[0m\u001b[0;34m.\u001b[0m\u001b[0mcreate\u001b[0m\u001b[0;34m(\u001b[0m\u001b[0mscreenName\u001b[0m\u001b[0;34m,\u001b[0m \u001b[0mbaseName\u001b[0m\u001b[0;34m,\u001b[0m \u001b[0mclassName\u001b[0m\u001b[0;34m,\u001b[0m \u001b[0minteractive\u001b[0m\u001b[0;34m,\u001b[0m \u001b[0mwantobjects\u001b[0m\u001b[0;34m,\u001b[0m \u001b[0museTk\u001b[0m\u001b[0;34m,\u001b[0m \u001b[0msync\u001b[0m\u001b[0;34m,\u001b[0m \u001b[0muse\u001b[0m\u001b[0;34m)\u001b[0m\u001b[0;34m\u001b[0m\u001b[0;34m\u001b[0m\u001b[0m\n\u001b[0m\u001b[1;32m   2024\u001b[0m         \u001b[0;32mif\u001b[0m \u001b[0museTk\u001b[0m\u001b[0;34m:\u001b[0m\u001b[0;34m\u001b[0m\u001b[0;34m\u001b[0m\u001b[0m\n\u001b[1;32m   2025\u001b[0m             \u001b[0mself\u001b[0m\u001b[0;34m.\u001b[0m\u001b[0m_loadtk\u001b[0m\u001b[0;34m(\u001b[0m\u001b[0;34m)\u001b[0m\u001b[0;34m\u001b[0m\u001b[0;34m\u001b[0m\u001b[0m\n",
            "\u001b[0;31mTclError\u001b[0m: no display name and no $DISPLAY environment variable"
          ]
        }
      ]
    }
  ]
}